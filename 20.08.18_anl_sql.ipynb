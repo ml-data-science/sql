{
 "cells": [
  {
   "cell_type": "code",
   "execution_count": null,
   "metadata": {},
   "outputs": [],
   "source": [
    "SELECT * FROM information_schema.columns WHERE table_schema = 'skillbox1'"
   ]
  },
  {
   "cell_type": "markdown",
   "metadata": {},
   "source": [
    "## 1:"
   ]
  },
  {
   "cell_type": "markdown",
   "metadata": {},
   "source": [
    "1. Написать запрос для выбора студентов в порядке их регистрации на сервисе."
   ]
  },
  {
   "cell_type": "code",
   "execution_count": null,
   "metadata": {},
   "outputs": [],
   "source": [
    "SELECT `name` FROM `Students` ORDER BY `Students`.`registration_date` ASC"
   ]
  },
  {
   "cell_type": "markdown",
   "metadata": {},
   "source": [
    "2. Написать запрос для выбора 5 самых дорогих курсов, на которых более 4 студентов, и которые длятся более 10 часов."
   ]
  },
  {
   "cell_type": "code",
   "execution_count": null,
   "metadata": {},
   "outputs": [],
   "source": [
    "SELECT * FROM `Courses` WHERE `Courses`.`students_count` > 4 AND `Courses`.`duration` > 10 ORDER BY `Courses`.`price` DESC LIMIT 5"
   ]
  },
  {
   "cell_type": "markdown",
   "metadata": {},
   "source": [
    "3. Написать один (!) запрос, который выведет одновременно список из имен трёх самых молодых студентов, имен трёх самых старых учителей и названий трёх самых продолжительных курсов."
   ]
  },
  {
   "cell_type": "code",
   "execution_count": null,
   "metadata": {},
   "outputs": [],
   "source": [
    "(SELECT `name` FROM `Students` ORDER BY `age` ASC LIMIT 0, 3) UNION (SELECT `name` FROM `Teachers` ORDER BY `age` DESC LIMIT 0, 3) UNION (SELECT `name` FROM `Courses` ORDER BY `duration` DESC LIMIT 0, 3)"
   ]
  },
  {
   "cell_type": "markdown",
   "metadata": {},
   "source": [
    "## 2:"
   ]
  },
  {
   "cell_type": "markdown",
   "metadata": {},
   "source": [
    "1. Написать запрос для выбора среднего возраста всех учителей с зарплатой более 10 000."
   ]
  },
  {
   "cell_type": "code",
   "execution_count": null,
   "metadata": {},
   "outputs": [],
   "source": [
    "SELECT AVG(`age`) FROM `Teachers` WHERE `salary` > 10000"
   ]
  },
  {
   "cell_type": "markdown",
   "metadata": {},
   "source": [
    "2. Написать запрос для расчета суммы, сколько будет стоить купить все курсы по дизайну."
   ]
  },
  {
   "cell_type": "code",
   "execution_count": null,
   "metadata": {},
   "outputs": [],
   "source": [
    "SELECT SUM(`price`) FROM `Courses` WHERE `type` = \"DESIGN\""
   ]
  },
  {
   "cell_type": "markdown",
   "metadata": {},
   "source": [
    "3. Написать запрос для расчёта, сколько минут (!) длятся все курсы по программированию."
   ]
  },
  {
   "cell_type": "code",
   "execution_count": null,
   "metadata": {},
   "outputs": [],
   "source": [
    "SELECT SUM(`duration` * 60) FROM `Courses` WHERE `type` = \"PROGRAMMING\""
   ]
  },
  {
   "cell_type": "markdown",
   "metadata": {},
   "source": [
    "## 3:"
   ]
  },
  {
   "cell_type": "markdown",
   "metadata": {},
   "source": [
    "1. Напишите запрос, который выводит сумму, сколько часов должен в итоге проучиться каждый студент (сумма длительности всех курсов на которые он подписан).\n",
    "\n",
    "В результате запрос возвращает две колонки: Имя Студента — Кол-во часов."
   ]
  },
  {
   "cell_type": "code",
   "execution_count": null,
   "metadata": {},
   "outputs": [],
   "source": [
    "SELECT `Students`.`name` as `Students_name`, SUM(`Courses`.`duration`) as `SUM_courses_duration` FROM `Students`\n",
    "JOIN `Subscriptions` ON `Students`.`id` = `Subscriptions`.`student_id`\n",
    "JOIN `Courses` ON `Courses`.`id` = `Subscriptions`.`course_id`\n",
    "GROUP BY `Students`.`name`\n",
    "ORDER BY `SUM_courses_duration` DESC"
   ]
  },
  {
   "cell_type": "markdown",
   "metadata": {},
   "source": [
    "2. Напишите запрос, который посчитает для каждого учителя средний возраст его учеников.\n",
    "\n",
    "В результате запрос возвращает две колонки: Имя Учителя — Средний Возраст Учеников."
   ]
  },
  {
   "cell_type": "code",
   "execution_count": null,
   "metadata": {},
   "outputs": [],
   "source": [
    "SELECT `Teachers`.`name` as `Teachers_name`, AVG(`Students`.`age`) as `AVG_students_age` FROM `Teachers`\n",
    "JOIN `Courses` ON `Teachers`.`id` = `Courses`.`teacher_id`\n",
    "JOIN `Subscriptions` ON `Courses`.`id` = `Subscriptions`.`course_id`\n",
    "JOIN `Students` ON `Students`.`id` = `Subscriptions`.`student_id`\n",
    "GROUP BY `Teachers`.`name`\n",
    "ORDER BY `AVG_students_age` DESC"
   ]
  },
  {
   "cell_type": "markdown",
   "metadata": {},
   "source": [
    "3. Напишите запрос, который выводит среднюю зарплату учителей для каждого типа курса (Дизайн/Программирование/Маркетинг и т.д.).\n",
    "\n",
    "В результате запрос возвращает две колонки: Тип Курса — Средняя зарплата."
   ]
  },
  {
   "cell_type": "code",
   "execution_count": null,
   "metadata": {},
   "outputs": [],
   "source": [
    "SELECT `Courses`.`type` as `Courses_type`, AVG(`Teachers`.`salary`) as `AVG_teachers_salary` FROM `Teachers`\n",
    "JOIN `Courses` ON `Teachers`.`id` = `Courses`.`teacher_id`\n",
    "GROUP BY `Courses`.`type`\n",
    "ORDER BY `AVG_teachers_salary` DESC"
   ]
  }
 ],
 "metadata": {
  "kernelspec": {
   "display_name": "Python 3",
   "language": "python",
   "name": "python3"
  },
  "language_info": {
   "codemirror_mode": {
    "name": "ipython",
    "version": 3
   },
   "file_extension": ".py",
   "mimetype": "text/x-python",
   "name": "python",
   "nbconvert_exporter": "python",
   "pygments_lexer": "ipython3",
   "version": "3.7.6"
  }
 },
 "nbformat": 4,
 "nbformat_minor": 4
}
