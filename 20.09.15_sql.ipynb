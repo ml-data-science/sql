{
 "cells": [
  {
   "cell_type": "markdown",
   "metadata": {},
   "source": [
    "**Таблица events**\n",
    "\n",
    "* поле тип key описание\n",
    "* event_id string Primarykey уникальный идентификатор события\n",
    "* event_timestamp timestamp дата события\n",
    "* product_id strin уникальный идентификатор продукта\n",
    "* sender_id string уникальный идентификатор пользователя-отправителя события. В случае события блокировки идентификатор модератора.\n",
    "* block integer событие блокировки продукта. Может быть 1-блокировка, 2-разблокировка или NULL\n",
    "* chat integer событие создания чата. Может быть 1 или NULL\n",
    "\n",
    "**Таблица products**\n",
    "\n",
    "* поле тип key описание\n",
    "* product_id string Primarykey уникальный идентификатор продукта\n",
    "* owner_id string уникальный идентификатор пользователя-продавца продукта\n",
    "* date_created timestamp дата создания продукта\n",
    "* is_sold integer статус продажи продукта. Может быть 1 или NULL\n",
    "* date_sold timestamp дата продажи продукта\n",
    "* is_archived integer статус архивации продукта. Может быть 1 или NULL\n",
    "* date_archived timestamp дата архивации продукта\n",
    "* is_deleted integer статус удаления продукта. Может быть 1 или NULL\n",
    "* date_deleted timestamp дата удаления продукта\n",
    "* is_blocked integer статус блокировки продукта. Может быть 1 или NULL\n",
    "* date_blocked timestamp дата блокировки продукта\n",
    "* subcategory_id string Подкатегория продукта\n",
    "\n",
    "Статус удален может соответствовать архивному, проданному или заблокированному продукту. В этом случае датой выхода из активного статуса является первое изменение статуса. После удаления продукт не может быть изменен. Продукт может быть заблокирован даже если он уже продан или находится в архиве. У одного продавца может быть сколько угодно товаров.\n",
    "\n",
    "**Таблица  sellers**\n",
    "\n",
    "* поле тип key описание\n",
    "* owner_id string Primarykey уникальный идентификатор пользователя-продавца продукта\n",
    "* first_name string имя продавца\n",
    "* last_name string фамилия продавца\n",
    "* city string город продавца\n",
    "\n",
    "Таблица sellers содержит информацию обо всех продавцах, их данные из профиля в приложении."
   ]
  },
  {
   "cell_type": "markdown",
   "metadata": {},
   "source": [
    "**ЗАДАНИЕ 1**\n",
    "\n",
    "Посчитайте количество активных продуктов по дням с 1 по 31 августа. Активным считается продукт, который не находится в архиве, блокировке, не удален и не продан."
   ]
  },
  {
   "cell_type": "raw",
   "metadata": {},
   "source": [
    "SELECT COUNT(`product_id`) `product_id`, `date_created`,\n",
    " (SELECT COUNT(`product_id`) FROM `products` \n",
    "WHERE `date_created` <= `p`.`date_created` AND `is_sold` IS NULL AND `is_archived` IS NULL AND `is_deleted` IS NULL AND `is_blocked` IS NULL) `number of active products` FROM `products` `p` \n",
    "WHERE `date_created` BETWEEN '2020-08-01 00:00:00' AND '2020-08-31 23:59:59'\n",
    "GROUP BY `date_created`\n",
    "ORDER BY `date_created`"
   ]
  },
  {
   "cell_type": "markdown",
   "metadata": {},
   "source": [
    "**ЗАДАНИЕ 2**\n",
    "\n",
    "Посчитайте количество продуктов, которые набрали хотя бы 1 контакт за 2 недели активности после создания, и их долю от созданных в этот день для продуктов созданных после 1 августа. Показатель должен быть с динамикой по дням. Как вы будете анализировать данную метрику?"
   ]
  },
  {
   "cell_type": "raw",
   "metadata": {},
   "source": [
    "SELECT round((@share / COUNT(`a`.`product_id`)), 2) AS `products_by_day_share`, date_format(`a`.`date_created`, '%Y-%m-%d') AS `date`\n",
    "FROM `products` `a`\n",
    "INNER JOIN\n",
    "(SELECT @share := COUNT(`product_id`), date_format(LEAST(`date_sold`, `date_archived`, `date_deleted`, `date_blocked`), '%Y-%m-%d') AS `date_`\n",
    "FROM `products`\n",
    "WHERE `date_created`  > '2020-08-01'        (после 1 августа = со 2 августа)\n",
    "AND (TO_SECONDS(`date_sold`) - TO_SECONDS(`date_created`)) < 1209600\n",
    "OR (TO_SECONDS(`date_archived`) - TO_SECONDS(`date_created`)) < 1209600\n",
    "OR (TO_SECONDS(`date_deleted`) - TO_SECONDS(`date_created`)) < 1209600\n",
    "OR (TO_SECONDS(`date_blocked`) - TO_SECONDS(`date_created`)) < 1209600\n",
    "GROUP BY `date_`\n",
    "ORDER BY `date_`) `b`\n",
    "ON `b`.`date_` = date_format(`a`.`date_created`, '%Y-%m-%d')\n",
    "GROUP BY `date`"
   ]
  },
  {
   "cell_type": "markdown",
   "metadata": {},
   "source": [
    "Данная метрика показывает оборот активных продуктов. Репрезентативные данные можно получать с середины августа. Если значение доли или ее средний показатель постоянно приближено к единице, то количество активных продуктов с течением времени остается почти неизменным. Если показатели в основном меньше единицы, значит количество активных продуктов увеличивается; если больше , то уменьшается.\n",
    "Скорее всего будут заметны отклонения по дням недели, например, размещение продуктов может происходить в будни, а покупательская активность увеличиваться в выходные. В этом случае в начале недели будет прирост продуктов, а к концу недели спад.\n",
    "Предметами дальнейших исследований могут стать:\n",
    "* Мерчандайзинг в рознице и видимость товаров в интернет-ресурсах\n",
    "* Популярность определенных товаров и их категорий\n",
    "* Популярность в связи с размещением по дням недели\n",
    "* Сезонность товаров (начиная с августа)"
   ]
  },
  {
   "cell_type": "markdown",
   "metadata": {},
   "source": [
    "Если во фразе \"долю от созданных в этот день\" подразумевалась не дата первого контакта, а один и тот же день создания и для продуктов, имеющих контакт в течение двух недель, и для продуктов, от которых считается доля, то код будет следующим:"
   ]
  },
  {
   "cell_type": "raw",
   "metadata": {},
   "source": [
    "SELECT round((@share / COUNT(`a`.`product_id`)), 2) as `products_by_day_share`, date_format(`a`.`date_created`, '%Y-%m-%d') as `date`\n",
    "FROM `products` `a`\n",
    "INNER JOIN\n",
    "(SELECT @share := COUNT(`product_id`),  date_format(`date_created`, '%Y-%m-%d') as `date_`\n",
    "FROM `products`\n",
    "WHERE `date_created`  > '2020-08-01'         (после 1 августа = со 2 августа)\n",
    "AND  (TO_SECONDS(`date_sold`) - TO_SECONDS(`date_created`)) < 1209600\n",
    "OR  (TO_SECONDS(`date_archived`) - TO_SECONDS(`date_created`)) < 1209600\n",
    "OR  (TO_SECONDS(`date_deleted`) - TO_SECONDS(`date_created`)) < 1209600\n",
    "OR  (TO_SECONDS(`date_blocked`) - TO_SECONDS(`date_created`)) < 1209600\n",
    "GROUP BY `date_`\n",
    "ORDER BY `date_`) `b`\n",
    "ON `b`.`date_` = date_format(`a`.`date_created`, '%Y-%m-%d')\n",
    "GROUP BY `date`"
   ]
  },
  {
   "cell_type": "markdown",
   "metadata": {},
   "source": [
    "**ЗАДАНИЕ 3**\n",
    "\n",
    "Посчитайте количество продуктов по московским продавцам в разрезе подкатегорий. Если есть подкатегории без продуктов, по ним нужно вывести 0 (например, в базе есть подкатегория «стулья», но московские продавцы никогда не публиковали объявления в этой подкатегории). В поле city Москва может быть написана только как МОСКВА, Москва или москва. Результат должен быть в виде:\n",
    "\n",
    "subcategory_id Количество продуктов"
   ]
  },
  {
   "cell_type": "raw",
   "metadata": {},
   "source": [
    "SELECT `products`.`subcategory_id`, SUM(CASE WHEN `sellers`.`city` IN  ('МОСКВА', 'Москва', 'москва') THEN 1 ELSE 0 END) AS `Количество продуктов`\n",
    "FROM `products` LEFT JOIN `sellers` ON `products`.`owner_id` = `sellers`.`owner_id`\n",
    "GROUP BY `products`.`subcategory_id`\n",
    "ORDER BY `Количество продуктов` DESC"
   ]
  },
  {
   "cell_type": "code",
   "execution_count": null,
   "metadata": {},
   "outputs": [],
   "source": []
  }
 ],
 "metadata": {
  "kernelspec": {
   "display_name": "Python 3",
   "language": "python",
   "name": "python3"
  },
  "language_info": {
   "codemirror_mode": {
    "name": "ipython",
    "version": 3
   },
   "file_extension": ".py",
   "mimetype": "text/x-python",
   "name": "python",
   "nbconvert_exporter": "python",
   "pygments_lexer": "ipython3",
   "version": "3.7.6"
  }
 },
 "nbformat": 4,
 "nbformat_minor": 4
}
